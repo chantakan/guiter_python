{
 "cells": [
  {
   "cell_type": "code",
   "execution_count": 1,
   "metadata": {},
   "outputs": [
    {
     "name": "stdout",
     "output_type": "stream",
     "text": [
      "Defaulting to user installation because normal site-packages is not writeable\n",
      "Requirement already satisfied: requests in /home/vscode/.local/lib/python3.10/site-packages (2.28.2)\n",
      "Requirement already satisfied: beautifulsoup4 in /home/vscode/.local/lib/python3.10/site-packages (4.11.2)\n",
      "Requirement already satisfied: pandas in /home/vscode/.local/lib/python3.10/site-packages (1.5.3)\n",
      "Requirement already satisfied: charset-normalizer<4,>=2 in /home/vscode/.local/lib/python3.10/site-packages (from requests) (3.1.0)\n",
      "Requirement already satisfied: idna<4,>=2.5 in /home/vscode/.local/lib/python3.10/site-packages (from requests) (3.4)\n",
      "Requirement already satisfied: certifi>=2017.4.17 in /home/vscode/.local/lib/python3.10/site-packages (from requests) (2022.12.7)\n",
      "Requirement already satisfied: urllib3<1.27,>=1.21.1 in /home/vscode/.local/lib/python3.10/site-packages (from requests) (1.26.15)\n",
      "Requirement already satisfied: soupsieve>1.2 in /home/vscode/.local/lib/python3.10/site-packages (from beautifulsoup4) (2.4)\n",
      "Requirement already satisfied: python-dateutil>=2.8.1 in /usr/local/lib/python3.10/site-packages (from pandas) (2.8.2)\n",
      "Requirement already satisfied: numpy>=1.21.0 in /home/vscode/.local/lib/python3.10/site-packages (from pandas) (1.24.2)\n",
      "Requirement already satisfied: pytz>=2020.1 in /home/vscode/.local/lib/python3.10/site-packages (from pandas) (2022.7.1)\n",
      "Requirement already satisfied: six>=1.5 in /usr/local/lib/python3.10/site-packages (from python-dateutil>=2.8.1->pandas) (1.16.0)\n",
      "Note: you may need to restart the kernel to use updated packages.\n"
     ]
    }
   ],
   "source": [
    "%pip install requests beautifulsoup4 pandas"
   ]
  },
  {
   "cell_type": "code",
   "execution_count": 2,
   "metadata": {},
   "outputs": [],
   "source": [
    "import csv\n",
    "from bs4 import BeautifulSoup\n",
    "import pandas as pd\n",
    "import requests\n",
    "\n",
    "url = 'https://ifret.xyz/song/636750/'\n",
    "res = requests.get(url)\n",
    "soup = BeautifulSoup(res.content, 'html.parser')\n",
    "\n",
    "# class=\"label\"の文字列を取得して、リストに保存\n",
    "labels = [label.text.strip() for label in soup.find_all('span', {'class': 'label'})]\n",
    "\n",
    "# class=\"score__section\"を取得\n",
    "scores = soup.find_all('p', {'class': 'score__section'})\n",
    "\n",
    "# labelとscoreのペアを作成\n",
    "pairs = zip(labels, scores)\n",
    "\n",
    "# csvに書き込み\n",
    "with open('output.csv', 'w', newline='', encoding='utf-8') as f:\n",
    "    writer = csv.writer(f)\n",
    "\n",
    "    for label, score in pairs:\n",
    "        # カラムの下にある各\"score__section__measure\"を取得\n",
    "        measures = score.find_all('span', {'class': 'score__section__measure'})\n",
    "        measure_row = []\n",
    "        for measure in measures:\n",
    "            # カラムの下にある各\"score__section__measure__chord\"を取得\n",
    "            chords = measure.find_all('span', {'class': 'score__section__measure__chord'})\n",
    "            if len(chords) == 1:\n",
    "                chord_row = [chords[0].text.strip(), '']\n",
    "            else:\n",
    "                chord_row = [chord.text.strip() for chord in chords]\n",
    "            measure_row += chord_row\n",
    "\n",
    "        # カラムを書き込み\n",
    "        writer.writerow([label] + measure_row)\n"
   ]
  },
  {
   "cell_type": "code",
   "execution_count": 3,
   "metadata": {},
   "outputs": [
    {
     "name": "stdout",
     "output_type": "stream",
     "text": [
      "イントロ,Dm7(b5),EbM7,Fm,,Fm,Dm7(b5),Dm(b5),Gm,Gm,AbM7,Dm7(b5),,Dm7(b5),Cm7,,,,,,,,,,,,,,,,,,\n",
      "Aメロ,Dm7(b5),,Gm,,Gm,,Gm7,Bb7,EbM7,,Bb7,EbM7,Dm7(b5),Cm7,Bb7,,Ab,,Gm,,Eb,,,,,,,,,,,\n",
      "Bメロ,Gm7,Dm(b5),Cm7,Gm7,Fm,,Eb,,Cm7,,AbM7,Bb,Bb7,Dm7(b5),Bb,,Bb,,Cm,Dm(b5),Fm7,,Eb,Dm7(b5),,,,,,,,\n",
      "Cメロ,Fm7,Cm,Bb,Fm7,Bb7,Ab,Dm(b5),,AbM7,Fm,Bb7,Dm7(b5),EbM7,,Fm,Bb7,Cm7,Fm7,Dm7(b5),Fm7,Dm7(b5),,Cm,,Dm7(b5),Dm(b5),Bb7,,,,,\n",
      "サビ,Cm,Eb,Dm7(b5),,Fm7,,Gm,,Cm,Bb,AbM7,,Dm7(b5),Gm7,Gm7,,Ab,,Cm,Dm7(b5),Cm7,,Ab,EbM7,Dm(b5),EbM7,Dm7(b5),,Cm,,Cm,Gm\n",
      "間奏,Bb,,AbM7,,Fm7,,Bb7,,Ab,Dm(b5),Gm7,Fm,Fm7,,AbM7,,Cm7,Cm,Fm7,,AbM7,,,,,,,,,,,\n"
     ]
    }
   ],
   "source": [
    "import csv\n",
    "\n",
    "with open('output.csv', 'r') as f:\n",
    "    reader = csv.reader(f)\n",
    "    rows = []\n",
    "    max_len = 0\n",
    "    for row in reader:\n",
    "        if len(row) > max_len:\n",
    "            max_len = len(row)\n",
    "        rows.append(row)\n",
    "    \n",
    "    for i in range(len(rows)):\n",
    "        if len(rows[i]) < max_len:\n",
    "            rows[i].extend([''] * (max_len - len(rows[i])))\n",
    "    \n",
    "    for row in rows:\n",
    "        print(','.join(row))"
   ]
  },
  {
   "cell_type": "code",
   "execution_count": null,
   "metadata": {},
   "outputs": [],
   "source": []
  }
 ],
 "metadata": {
  "kernelspec": {
   "display_name": "Python 3",
   "language": "python",
   "name": "python3"
  },
  "language_info": {
   "codemirror_mode": {
    "name": "ipython",
    "version": 3
   },
   "file_extension": ".py",
   "mimetype": "text/x-python",
   "name": "python",
   "nbconvert_exporter": "python",
   "pygments_lexer": "ipython3",
   "version": "3.10.10"
  },
  "orig_nbformat": 4
 },
 "nbformat": 4,
 "nbformat_minor": 2
}
